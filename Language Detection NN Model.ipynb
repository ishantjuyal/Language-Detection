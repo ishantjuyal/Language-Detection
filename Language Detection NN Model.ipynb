{
  "nbformat": 4,
  "nbformat_minor": 0,
  "metadata": {
    "kernelspec": {
      "display_name": "Python 3",
      "language": "python",
      "name": "python3"
    },
    "language_info": {
      "codemirror_mode": {
        "name": "ipython",
        "version": 3
      },
      "file_extension": ".py",
      "mimetype": "text/x-python",
      "name": "python",
      "nbconvert_exporter": "python",
      "pygments_lexer": "ipython3",
      "version": "3.8.3"
    },
    "colab": {
      "name": "Language Detection NN Model.ipynb",
      "provenance": []
    },
    "accelerator": "GPU"
  },
  "cells": [
    {
      "cell_type": "code",
      "metadata": {
        "id": "5ioQfiWPTyiW"
      },
      "source": [
        "from sklearn.metrics import confusion_matrix, accuracy_score\n",
        "from keras.preprocessing.sequence import pad_sequences\n",
        "from sklearn.model_selection import train_test_split\n",
        "from keras.layers import Embedding, Dense, Flatten\n",
        "from keras.preprocessing.text import Tokenizer\n",
        "from keras.models import Sequential\n",
        "import pandas as pd\n",
        "import numpy as np"
      ],
      "execution_count": 1,
      "outputs": []
    },
    {
      "cell_type": "code",
      "metadata": {
        "id": "XOrci40YTyiY"
      },
      "source": [
        "text_dict = {'text':[], 'german':[], 'french':[], 'spanish':[], 'english':[]}\n",
        "\n",
        "def read_data(url):\n",
        "    languages = ['german', 'french', 'spanish', 'english']\n",
        "    train = pd.read_csv(url)\n",
        "    for index, row in train.iterrows():\n",
        "        sentence = row['text']\n",
        "        language = row['language']\n",
        "        text_dict['text'].append(sentence)\n",
        "        for e in languages:\n",
        "            if language == e:\n",
        "                text_dict[language].append(1)\n",
        "            else:\n",
        "                text_dict[e].append(0)\n",
        "    train = pd.DataFrame(text_dict)\n",
        "    return(train)"
      ],
      "execution_count": 2,
      "outputs": []
    },
    {
      "cell_type": "code",
      "metadata": {
        "colab": {
          "base_uri": "https://localhost:8080/",
          "height": 195
        },
        "id": "1-DO8AABTyiY",
        "outputId": "ffcc4e92-3f37-45aa-c691-bfb0961ed5a7"
      },
      "source": [
        "train = read_data(\"languages.csv\")\n",
        "train.head()"
      ],
      "execution_count": 3,
      "outputs": [
        {
          "output_type": "execute_result",
          "data": {
            "text/html": [
              "<div>\n",
              "<style scoped>\n",
              "    .dataframe tbody tr th:only-of-type {\n",
              "        vertical-align: middle;\n",
              "    }\n",
              "\n",
              "    .dataframe tbody tr th {\n",
              "        vertical-align: top;\n",
              "    }\n",
              "\n",
              "    .dataframe thead th {\n",
              "        text-align: right;\n",
              "    }\n",
              "</style>\n",
              "<table border=\"1\" class=\"dataframe\">\n",
              "  <thead>\n",
              "    <tr style=\"text-align: right;\">\n",
              "      <th></th>\n",
              "      <th>text</th>\n",
              "      <th>german</th>\n",
              "      <th>french</th>\n",
              "      <th>spanish</th>\n",
              "      <th>english</th>\n",
              "    </tr>\n",
              "  </thead>\n",
              "  <tbody>\n",
              "    <tr>\n",
              "      <th>0</th>\n",
              "      <td>ich denke es handelt sich hier um ein missvers...</td>\n",
              "      <td>1</td>\n",
              "      <td>0</td>\n",
              "      <td>0</td>\n",
              "      <td>0</td>\n",
              "    </tr>\n",
              "    <tr>\n",
              "      <th>1</th>\n",
              "      <td>ich habe tom gerade erst verlassen</td>\n",
              "      <td>1</td>\n",
              "      <td>0</td>\n",
              "      <td>0</td>\n",
              "      <td>0</td>\n",
              "    </tr>\n",
              "    <tr>\n",
              "      <th>2</th>\n",
              "      <td>tom versuchte mary nur zu ärgern</td>\n",
              "      <td>1</td>\n",
              "      <td>0</td>\n",
              "      <td>0</td>\n",
              "      <td>0</td>\n",
              "    </tr>\n",
              "    <tr>\n",
              "      <th>3</th>\n",
              "      <td>tom hat mir die hand geküsst</td>\n",
              "      <td>1</td>\n",
              "      <td>0</td>\n",
              "      <td>0</td>\n",
              "      <td>0</td>\n",
              "    </tr>\n",
              "    <tr>\n",
              "      <th>4</th>\n",
              "      <td>ich wusste dass dir das gefiele</td>\n",
              "      <td>1</td>\n",
              "      <td>0</td>\n",
              "      <td>0</td>\n",
              "      <td>0</td>\n",
              "    </tr>\n",
              "  </tbody>\n",
              "</table>\n",
              "</div>"
            ],
            "text/plain": [
              "                                                text  german  ...  spanish  english\n",
              "0  ich denke es handelt sich hier um ein missvers...       1  ...        0        0\n",
              "1                 ich habe tom gerade erst verlassen       1  ...        0        0\n",
              "2                   tom versuchte mary nur zu ärgern       1  ...        0        0\n",
              "3                       tom hat mir die hand geküsst       1  ...        0        0\n",
              "4                    ich wusste dass dir das gefiele       1  ...        0        0\n",
              "\n",
              "[5 rows x 5 columns]"
            ]
          },
          "metadata": {
            "tags": []
          },
          "execution_count": 3
        }
      ]
    },
    {
      "cell_type": "code",
      "metadata": {
        "id": "lfgXreeITyij"
      },
      "source": [
        "Y = train[['german', 'french', 'spanish', 'english']]\n",
        "Y = np.array(Y)\n",
        "X = np.array(train['text'])"
      ],
      "execution_count": 4,
      "outputs": []
    },
    {
      "cell_type": "code",
      "metadata": {
        "id": "cnNfEi9TTyij"
      },
      "source": [
        "tokenizer = Tokenizer()\n",
        "tokenizer.fit_on_texts(X)\n",
        "X_new = []\n",
        "for line in X:\n",
        "    token_list = tokenizer.texts_to_sequences([line])[0]\n",
        "    X_new.append(token_list)\n",
        "max_sequence_len = max(max([len(x) for x in X_new]), 100)\n",
        "input_sequences = np.array(pad_sequences(X_new, maxlen=max_sequence_len, padding='pre'))\n",
        "total_words = len(tokenizer.word_index) + 1\n",
        "X = input_sequences"
      ],
      "execution_count": 5,
      "outputs": []
    },
    {
      "cell_type": "code",
      "metadata": {
        "id": "lgBAvAYeTyij"
      },
      "source": [
        "X_train, X_test, y_train, y_test = train_test_split(X, Y, test_size=0.2)"
      ],
      "execution_count": 6,
      "outputs": []
    },
    {
      "cell_type": "code",
      "metadata": {
        "colab": {
          "base_uri": "https://localhost:8080/"
        },
        "id": "6Z-uZbFeTyij",
        "outputId": "34787f06-d00f-42e0-97a5-fc97f56302b3"
      },
      "source": [
        "model = Sequential()\n",
        "model.add(Embedding(total_words, 32, input_length = X.shape[1]))\n",
        "model.add(Flatten())\n",
        "model.add(Dense(4, activation='softmax'))\n",
        "\n",
        "model.compile(loss='categorical_crossentropy', optimizer='adam', metrics='accuracy')\n",
        "print(model.summary())"
      ],
      "execution_count": 10,
      "outputs": [
        {
          "output_type": "stream",
          "text": [
            "Model: \"sequential_1\"\n",
            "_________________________________________________________________\n",
            "Layer (type)                 Output Shape              Param #   \n",
            "=================================================================\n",
            "embedding_1 (Embedding)      (None, 101, 32)           3477760   \n",
            "_________________________________________________________________\n",
            "flatten_1 (Flatten)          (None, 3232)              0         \n",
            "_________________________________________________________________\n",
            "dense_1 (Dense)              (None, 4)                 12932     \n",
            "=================================================================\n",
            "Total params: 3,490,692\n",
            "Trainable params: 3,490,692\n",
            "Non-trainable params: 0\n",
            "_________________________________________________________________\n",
            "None\n"
          ],
          "name": "stdout"
        }
      ]
    },
    {
      "cell_type": "code",
      "metadata": {
        "colab": {
          "base_uri": "https://localhost:8080/"
        },
        "id": "4CT3DUcZTyik",
        "outputId": "f4a9cada-8c4e-4376-a865-5c02d068ea4c"
      },
      "source": [
        "history = model.fit(X_train, y_train, epochs = 1)"
      ],
      "execution_count": 11,
      "outputs": [
        {
          "output_type": "stream",
          "text": [
            "19093/19093 [==============================] - 558s 29ms/step - loss: 0.0225 - accuracy: 0.9933\n"
          ],
          "name": "stdout"
        }
      ]
    },
    {
      "cell_type": "code",
      "metadata": {
        "id": "HeWRdBTmTyim"
      },
      "source": [
        "y_pred = np.argmax(model.predict(X_test), axis = -1)"
      ],
      "execution_count": 12,
      "outputs": []
    },
    {
      "cell_type": "code",
      "metadata": {
        "id": "H66M7bIWTyim"
      },
      "source": [
        "y_test = [list(i).index(1) for i in list(y_test)]\n",
        "y_test = np.array(y_test)"
      ],
      "execution_count": 13,
      "outputs": []
    },
    {
      "cell_type": "code",
      "metadata": {
        "colab": {
          "base_uri": "https://localhost:8080/"
        },
        "id": "i16wAdG5Tyim",
        "outputId": "24287e68-e7e5-4519-dc88-b65d85770947"
      },
      "source": [
        "print(\"Accuracy of model on test set:\")\n",
        "print(accuracy_score(y_test, y_pred))\n",
        "print(\"\\nThe confusion matrix on test set\")\n",
        "print(confusion_matrix(y_test, y_pred))"
      ],
      "execution_count": 14,
      "outputs": [
        {
          "output_type": "stream",
          "text": [
            "Accuracy of model on test set:\n",
            "0.9987822204181043\n",
            "\n",
            "The confusion matrix on test set\n",
            "[[39837     8     4    12]\n",
            " [   10 33942    44    12]\n",
            " [    7    62 23680    10]\n",
            " [   12     3     2 55092]]\n"
          ],
          "name": "stdout"
        }
      ]
    },
    {
      "cell_type": "code",
      "metadata": {
        "id": "0xL6D7xeTyil"
      },
      "source": [
        "def detect(text):\n",
        "    token_list = tokenizer.texts_to_sequences([text])[0]\n",
        "    zeros = max(0, max_sequence_len - len(token_list))\n",
        "    token_list = [0]*zeros + token_list\n",
        "    token_list = np.array(token_list).reshape(1, max_sequence_len)\n",
        "    index = np.argmax(model.predict(token_list), axis = -1)[0]\n",
        "    \n",
        "    languages = ['german', 'french', 'spanish', 'english']\n",
        "    return(languages[index])"
      ],
      "execution_count": 15,
      "outputs": []
    },
    {
      "cell_type": "code",
      "metadata": {
        "colab": {
          "base_uri": "https://localhost:8080/",
          "height": 35
        },
        "id": "5pRpndoGayZR",
        "outputId": "3145b874-7bcf-4222-a74c-da0b95ef068a"
      },
      "source": [
        "detect(\"Bonjour\")"
      ],
      "execution_count": 16,
      "outputs": [
        {
          "output_type": "execute_result",
          "data": {
            "application/vnd.google.colaboratory.intrinsic+json": {
              "type": "string"
            },
            "text/plain": [
              "'french'"
            ]
          },
          "metadata": {
            "tags": []
          },
          "execution_count": 16
        }
      ]
    },
    {
      "cell_type": "code",
      "metadata": {
        "id": "ZNk3Xkexd48Y"
      },
      "source": [
        ""
      ],
      "execution_count": null,
      "outputs": []
    }
  ]
}